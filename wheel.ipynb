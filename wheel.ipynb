{
 "cells": [
  {
   "cell_type": "code",
   "execution_count": 1,
   "id": "52981f55-c3a8-4f5f-b00a-82f4b8f82c27",
   "metadata": {},
   "outputs": [
    {
     "name": "stdout",
     "output_type": "stream",
     "text": [
      "\n",
      "Players 1, 2, and 3: Welcome to round 1\n"
     ]
    },
    {
     "name": "stdin",
     "output_type": "stream",
     "text": [
      "\n",
      "Player 1, it's your turn. Hit Enter to spin the wheel \n"
     ]
    },
    {
     "name": "stdout",
     "output_type": "stream",
     "text": [
      "\n",
      "    You landed on $200\n",
      "    headline: _ _ _ _ _ _ _   _ _ _ _   _ _ _ _ _   _ _ _ _ _ _   _ _ _ _ _ _ _ _ _ !\n",
      "    Guessed letters:\n",
      "\n",
      "    Scoreboard: $0 | $0 | $0\n",
      "\n"
     ]
    },
    {
     "name": "stdin",
     "output_type": "stream",
     "text": [
      "Guess a consonant:  m\n"
     ]
    },
    {
     "name": "stdout",
     "output_type": "stream",
     "text": [
      "\n",
      "    You guessed correctly!\n",
      "    headline: _ _ _ _ _ _ _   _ _ _ _   _ _ _ _ _   _ _ _ _ _ _   _ _ _ m _ _ _ _ _ !\n",
      "    Guessed letters: m\n",
      "\n",
      "    Scoreboard: $200 | $0 | $0\n",
      "\n"
     ]
    },
    {
     "name": "stdin",
     "output_type": "stream",
     "text": [
      "Solve the puzzle? (y/n):  n\n",
      "\n",
      "Player 2, it's your turn. Hit Enter to spin the wheel \n"
     ]
    },
    {
     "name": "stdout",
     "output_type": "stream",
     "text": [
      "\n",
      "    You landed on Bankrupt\n"
     ]
    },
    {
     "name": "stdin",
     "output_type": "stream",
     "text": [
      "\n",
      "Player 3, it's your turn. Hit Enter to spin the wheel \n"
     ]
    },
    {
     "name": "stdout",
     "output_type": "stream",
     "text": [
      "\n",
      "    You landed on $700\n",
      "    headline: _ _ _ _ _ _ _   _ _ _ _   _ _ _ _ _   _ _ _ _ _ _   _ _ _ m _ _ _ _ _ !\n",
      "    Guessed letters: m\n",
      "\n",
      "    Scoreboard: $200 | $0 | $0\n",
      "\n"
     ]
    },
    {
     "name": "stdin",
     "output_type": "stream",
     "text": [
      "Guess a consonant:  r\n"
     ]
    },
    {
     "name": "stdout",
     "output_type": "stream",
     "text": [
      "\n",
      "    You guessed correctly!\n",
      "    headline: _ _ _ _ _ _ _   _ _ _ _   _ _ r _ _   _ _ r _ _ _   _ _ _ m _ _ _ _ _ !\n",
      "    Guessed letters: m r\n",
      "\n",
      "    Scoreboard: $200 | $0 | $700\n",
      "\n"
     ]
    },
    {
     "name": "stdin",
     "output_type": "stream",
     "text": [
      "Buy a vowel for $250? (y/n):  y\n",
      "Guess a vowel:  e\n"
     ]
    },
    {
     "name": "stdout",
     "output_type": "stream",
     "text": [
      "\n",
      "    You guessed correctly!\n",
      "    headline: _ _ _ _ _ _ _   _ _ _ _   _ _ r _ _   _ e r _ e _   _ _ _ m _ _ _ _ _ !\n",
      "    Guessed letters: e m r\n",
      "\n",
      "    Scoreboard: $200 | $0 | $450\n",
      "\n"
     ]
    },
    {
     "name": "stdin",
     "output_type": "stream",
     "text": [
      "Buy a vowel for $250? (y/n):  n\n",
      "Solve the puzzle? (y/n):  n\n",
      "\n",
      "Player 1, it's your turn. Hit Enter to spin the wheel \n"
     ]
    },
    {
     "name": "stdout",
     "output_type": "stream",
     "text": [
      "\n",
      "    You landed on $300\n",
      "    headline: _ _ _ _ _ _ _   _ _ _ _   _ _ r _ _   _ e r _ e _   _ _ _ m _ _ _ _ _ !\n",
      "    Guessed letters: e m r\n",
      "\n",
      "    Scoreboard: $200 | $0 | $450\n",
      "\n"
     ]
    },
    {
     "name": "stdin",
     "output_type": "stream",
     "text": [
      "Guess a consonant:  d\n"
     ]
    },
    {
     "name": "stdout",
     "output_type": "stream",
     "text": [
      "\n",
      "    You guessed correctly!\n",
      "    headline: _ _ _ _ _ _ _   _ _ _ _   _ _ r _ d   _ e r _ e _   _ _ _ m _ _ _ _ _ !\n",
      "    Guessed letters: d e m r\n",
      "\n",
      "    Scoreboard: $500 | $0 | $450\n",
      "\n"
     ]
    },
    {
     "name": "stdin",
     "output_type": "stream",
     "text": [
      "Buy a vowel for $250? (y/n):  n\n",
      "Solve the puzzle? (y/n):  n\n",
      "\n",
      "Player 2, it's your turn. Hit Enter to spin the wheel \n"
     ]
    },
    {
     "name": "stdout",
     "output_type": "stream",
     "text": [
      "\n",
      "    You landed on $250\n",
      "    headline: _ _ _ _ _ _ _   _ _ _ _   _ _ r _ d   _ e r _ e _   _ _ _ m _ _ _ _ _ !\n",
      "    Guessed letters: d e m r\n",
      "\n",
      "    Scoreboard: $500 | $0 | $450\n",
      "\n"
     ]
    },
    {
     "name": "stdin",
     "output_type": "stream",
     "text": [
      "Guess a consonant:  l\n"
     ]
    },
    {
     "name": "stdout",
     "output_type": "stream",
     "text": [
      "\n",
      "    You guessed correctly!\n",
      "    headline: _ _ _ _ _ _ _   _ _ _ _   _ _ r l d   _ e r _ e _   _ _ _ m _ _ _ _ _ !\n",
      "    Guessed letters: d e l m r\n",
      "\n",
      "    Scoreboard: $500 | $250 | $450\n",
      "\n"
     ]
    },
    {
     "name": "stdin",
     "output_type": "stream",
     "text": [
      "Buy a vowel for $250? (y/n):  y\n",
      "Guess a vowel:  u\n"
     ]
    },
    {
     "name": "stdout",
     "output_type": "stream",
     "text": [
      "\n",
      "    You guessed correctly!\n",
      "    headline: _ _ _ _ _ _ _   _ u _ _   _ _ r l d   _ e r _ e _   _ _ _ m _ _ _ _ _ !\n",
      "    Guessed letters: d e l m r u\n",
      "\n",
      "    Scoreboard: $500 | $0 | $450\n",
      "\n"
     ]
    },
    {
     "name": "stdin",
     "output_type": "stream",
     "text": [
      "Solve the puzzle? (y/n):  n\n",
      "\n",
      "Player 3, it's your turn. Hit Enter to spin the wheel \n"
     ]
    },
    {
     "name": "stdout",
     "output_type": "stream",
     "text": [
      "\n",
      "    You landed on $250\n",
      "    headline: _ _ _ _ _ _ _   _ u _ _   _ _ r l d   _ e r _ e _   _ _ _ m _ _ _ _ _ !\n",
      "    Guessed letters: d e l m r u\n",
      "\n",
      "    Scoreboard: $500 | $0 | $450\n",
      "\n"
     ]
    },
    {
     "name": "stdin",
     "output_type": "stream",
     "text": [
      "Guess a consonant:  w\n"
     ]
    },
    {
     "name": "stdout",
     "output_type": "stream",
     "text": [
      "\n",
      "    You guessed correctly!\n",
      "    headline: _ _ _ _ _ _ _   _ u _ _   w _ r l d   _ e r _ e _   _ _ _ m _ _ _ _ _ !\n",
      "    Guessed letters: d e l m r u w\n",
      "\n",
      "    Scoreboard: $500 | $0 | $700\n",
      "\n"
     ]
    },
    {
     "name": "stdin",
     "output_type": "stream",
     "text": [
      "Buy a vowel for $250? (y/n):  y\n",
      "Guess a vowel:  i\n"
     ]
    },
    {
     "name": "stdout",
     "output_type": "stream",
     "text": [
      "\n",
      "    You guessed correctly!\n",
      "    headline: _ _ i _ _ _ _   _ u _ _   w _ r l d   _ e r i e _   _ _ _ m _ i _ _ _ !\n",
      "    Guessed letters: d e i l m r u w\n",
      "\n",
      "    Scoreboard: $500 | $0 | $450\n",
      "\n"
     ]
    },
    {
     "name": "stdin",
     "output_type": "stream",
     "text": [
      "Buy a vowel for $250? (y/n):  y\n",
      "Guess a vowel:  a\n"
     ]
    },
    {
     "name": "stdout",
     "output_type": "stream",
     "text": [
      "\n",
      "    You guessed correctly!\n",
      "    headline: _ _ i _ a _ _   _ u _ _   w _ r l d   _ e r i e _   _ _ a m _ i _ _ _ !\n",
      "    Guessed letters: a d e i l m r u w\n",
      "\n",
      "    Scoreboard: $500 | $0 | $200\n",
      "\n"
     ]
    },
    {
     "name": "stdin",
     "output_type": "stream",
     "text": [
      "Solve the puzzle? (y/n):  n\n",
      "\n",
      "Player 1, it's your turn. Hit Enter to spin the wheel \n"
     ]
    },
    {
     "name": "stdout",
     "output_type": "stream",
     "text": [
      "\n",
      "    You landed on $350\n",
      "    headline: _ _ i _ a _ _   _ u _ _   w _ r l d   _ e r i e _   _ _ a m _ i _ _ _ !\n",
      "    Guessed letters: a d e i l m r u w\n",
      "\n",
      "    Scoreboard: $500 | $0 | $200\n",
      "\n"
     ]
    },
    {
     "name": "stdin",
     "output_type": "stream",
     "text": [
      "Guess a consonant:  z\n"
     ]
    },
    {
     "name": "stdout",
     "output_type": "stream",
     "text": [
      "\n",
      "    That letter is not there!\n"
     ]
    },
    {
     "name": "stdin",
     "output_type": "stream",
     "text": [
      "\n",
      "Player 2, it's your turn. Hit Enter to spin the wheel \n"
     ]
    },
    {
     "name": "stdout",
     "output_type": "stream",
     "text": [
      "\n",
      "    You landed on $600\n",
      "    headline: _ _ i _ a _ _   _ u _ _   w _ r l d   _ e r i e _   _ _ a m _ i _ _ _ !\n",
      "    Guessed letters: a d e i l m r u w z\n",
      "\n",
      "    Scoreboard: $500 | $0 | $200\n",
      "\n"
     ]
    },
    {
     "name": "stdin",
     "output_type": "stream",
     "text": [
      "Guess a consonant:  s\n"
     ]
    },
    {
     "name": "stdout",
     "output_type": "stream",
     "text": [
      "\n",
      "    You guessed correctly!\n",
      "    headline: _ _ i _ a _ _   _ u _ s   w _ r l d   s e r i e s   _ _ a m _ i _ _ s !\n",
      "    Guessed letters: a d e i l m r s u w z\n",
      "\n",
      "    Scoreboard: $500 | $600 | $200\n",
      "\n"
     ]
    },
    {
     "name": "stdin",
     "output_type": "stream",
     "text": [
      "Buy a vowel for $250? (y/n):  n\n",
      "Solve the puzzle? (y/n):  n\n",
      "\n",
      "Player 3, it's your turn. Hit Enter to spin the wheel \n"
     ]
    },
    {
     "name": "stdout",
     "output_type": "stream",
     "text": [
      "\n",
      "    You landed on $250\n",
      "    headline: _ _ i _ a _ _   _ u _ s   w _ r l d   s e r i e s   _ _ a m _ i _ _ s !\n",
      "    Guessed letters: a d e i l m r s u w z\n",
      "\n",
      "    Scoreboard: $500 | $600 | $200\n",
      "\n"
     ]
    },
    {
     "name": "stdin",
     "output_type": "stream",
     "text": [
      "Guess a consonant:  c\n"
     ]
    },
    {
     "name": "stdout",
     "output_type": "stream",
     "text": [
      "\n",
      "    You guessed correctly!\n",
      "    headline: c _ i c a _ _   c u _ s   w _ r l d   s e r i e s   c _ a m _ i _ _ s !\n",
      "    Guessed letters: a c d e i l m r s u w z\n",
      "\n",
      "    Scoreboard: $500 | $600 | $450\n",
      "\n"
     ]
    },
    {
     "name": "stdin",
     "output_type": "stream",
     "text": [
      "Buy a vowel for $250? (y/n):  n\n",
      "Solve the puzzle? (y/n):  y\n",
      "Enter your guess:  chicago cuts world series champions\n"
     ]
    },
    {
     "name": "stdout",
     "output_type": "stream",
     "text": [
      "\n",
      "    That guess is incorrect\n"
     ]
    },
    {
     "name": "stdin",
     "output_type": "stream",
     "text": [
      "\n",
      "Player 1, it's your turn. Hit Enter to spin the wheel \n"
     ]
    },
    {
     "name": "stdout",
     "output_type": "stream",
     "text": [
      "\n",
      "    You landed on $550\n",
      "    headline: c _ i c a _ _   c u _ s   w _ r l d   s e r i e s   c _ a m _ i _ _ s !\n",
      "    Guessed letters: a c d e i l m r s u w z\n",
      "\n",
      "    Scoreboard: $500 | $600 | $450\n",
      "\n"
     ]
    },
    {
     "name": "stdin",
     "output_type": "stream",
     "text": [
      "Guess a consonant:  b\n"
     ]
    },
    {
     "name": "stdout",
     "output_type": "stream",
     "text": [
      "\n",
      "    You guessed correctly!\n",
      "    headline: c _ i c a _ _   c u b s   w _ r l d   s e r i e s   c _ a m _ i _ _ s !\n",
      "    Guessed letters: a b c d e i l m r s u w z\n",
      "\n",
      "    Scoreboard: $1050 | $600 | $450\n",
      "\n"
     ]
    },
    {
     "name": "stdin",
     "output_type": "stream",
     "text": [
      "Buy a vowel for $250? (y/n):  n\n",
      "Solve the puzzle? (y/n):  n\n",
      "\n",
      "Player 2, it's your turn. Hit Enter to spin the wheel \n"
     ]
    },
    {
     "name": "stdout",
     "output_type": "stream",
     "text": [
      "\n",
      "    You landed on $400\n",
      "    headline: c _ i c a _ _   c u b s   w _ r l d   s e r i e s   c _ a m _ i _ _ s !\n",
      "    Guessed letters: a b c d e i l m r s u w z\n",
      "\n",
      "    Scoreboard: $1050 | $600 | $450\n",
      "\n"
     ]
    },
    {
     "name": "stdin",
     "output_type": "stream",
     "text": [
      "Guess a consonant:  g\n"
     ]
    },
    {
     "name": "stdout",
     "output_type": "stream",
     "text": [
      "\n",
      "    You guessed correctly!\n",
      "    headline: c _ i c a g _   c u b s   w _ r l d   s e r i e s   c _ a m _ i _ _ s !\n",
      "    Guessed letters: a b c d e g i l m r s u w z\n",
      "\n",
      "    Scoreboard: $1050 | $1000 | $450\n",
      "\n"
     ]
    },
    {
     "name": "stdin",
     "output_type": "stream",
     "text": [
      "Buy a vowel for $250? (y/n):  n\n",
      "Solve the puzzle? (y/n):  y\n",
      "Enter your guess:  chicago cubs world series champions\n"
     ]
    },
    {
     "name": "stdout",
     "output_type": "stream",
     "text": [
      "\n",
      "    That guess is incorrect\n"
     ]
    },
    {
     "name": "stdin",
     "output_type": "stream",
     "text": [
      "\n",
      "Player 3, it's your turn. Hit Enter to spin the wheel \n"
     ]
    },
    {
     "name": "stdout",
     "output_type": "stream",
     "text": [
      "\n",
      "    You landed on $350\n",
      "    headline: c _ i c a g _   c u b s   w _ r l d   s e r i e s   c _ a m _ i _ _ s !\n",
      "    Guessed letters: a b c d e g i l m r s u w z\n",
      "\n",
      "    Scoreboard: $1050 | $1000 | $450\n",
      "\n"
     ]
    },
    {
     "name": "stdin",
     "output_type": "stream",
     "text": [
      "Guess a consonant:  h\n"
     ]
    },
    {
     "name": "stdout",
     "output_type": "stream",
     "text": [
      "\n",
      "    You guessed correctly!\n",
      "    headline: c h i c a g _   c u b s   w _ r l d   s e r i e s   c h a m _ i _ _ s !\n",
      "    Guessed letters: a b c d e g h i l m r s u w z\n",
      "\n",
      "    Scoreboard: $1050 | $1000 | $800\n",
      "\n"
     ]
    },
    {
     "name": "stdin",
     "output_type": "stream",
     "text": [
      "Buy a vowel for $250? (y/n):  n\n",
      "Solve the puzzle? (y/n):  y\n",
      "Enter your guess:  chicago cubs world series champions!\n"
     ]
    },
    {
     "name": "stdout",
     "output_type": "stream",
     "text": [
      "\n",
      "    You solved the puzzle!\n",
      "\n",
      "Players 1, 2, and 3: Welcome to round 2\n"
     ]
    },
    {
     "name": "stdin",
     "output_type": "stream",
     "text": [
      "\n",
      "Player 1, it's your turn. Hit Enter to spin the wheel \n"
     ]
    },
    {
     "name": "stdout",
     "output_type": "stream",
     "text": [
      "\n",
      "    You landed on Lose a Turn\n"
     ]
    },
    {
     "name": "stdin",
     "output_type": "stream",
     "text": [
      "\n",
      "Player 2, it's your turn. Hit Enter to spin the wheel \n"
     ]
    },
    {
     "name": "stdout",
     "output_type": "stream",
     "text": [
      "\n",
      "    You landed on $150\n",
      "    megaword: _ _ _ _ _ _ _ _ _ _ _\n",
      "    Guessed letters:\n",
      "\n",
      "    Scoreboard: $1050 | $1000 | $800\n",
      "\n"
     ]
    },
    {
     "name": "stdin",
     "output_type": "stream",
     "text": [
      "Guess a consonant:  t\n"
     ]
    },
    {
     "name": "stdout",
     "output_type": "stream",
     "text": [
      "\n",
      "    You guessed correctly!\n",
      "    megaword: _ _ _ _ t _ _ _ _ _ _\n",
      "    Guessed letters: t\n",
      "\n",
      "    Scoreboard: $1050 | $1150 | $800\n",
      "\n"
     ]
    },
    {
     "name": "stdin",
     "output_type": "stream",
     "text": [
      "Buy a vowel for $250? (y/n):  n\n",
      "Solve the puzzle? (y/n):  n\n",
      "\n",
      "Player 3, it's your turn. Hit Enter to spin the wheel \n"
     ]
    },
    {
     "name": "stdout",
     "output_type": "stream",
     "text": [
      "\n",
      "    You landed on $500\n",
      "    megaword: _ _ _ _ t _ _ _ _ _ _\n",
      "    Guessed letters: t\n",
      "\n",
      "    Scoreboard: $1050 | $1150 | $800\n",
      "\n"
     ]
    },
    {
     "name": "stdin",
     "output_type": "stream",
     "text": [
      "Guess a consonant:  s\n"
     ]
    },
    {
     "name": "stdout",
     "output_type": "stream",
     "text": [
      "\n",
      "    You guessed correctly!\n",
      "    megaword: _ _ _ s t _ _ _ _ _ _\n",
      "    Guessed letters: s t\n",
      "\n",
      "    Scoreboard: $1050 | $1150 | $1300\n",
      "\n"
     ]
    },
    {
     "name": "stdin",
     "output_type": "stream",
     "text": [
      "Buy a vowel for $250? (y/n):  n\n",
      "Solve the puzzle? (y/n):  n\n",
      "\n",
      "Player 1, it's your turn. Hit Enter to spin the wheel \n"
     ]
    },
    {
     "name": "stdout",
     "output_type": "stream",
     "text": [
      "\n",
      "    You landed on $100\n",
      "    megaword: _ _ _ s t _ _ _ _ _ _\n",
      "    Guessed letters: s t\n",
      "\n",
      "    Scoreboard: $1050 | $1150 | $1300\n",
      "\n"
     ]
    },
    {
     "name": "stdin",
     "output_type": "stream",
     "text": [
      "Guess a consonant:  b\n"
     ]
    },
    {
     "name": "stdout",
     "output_type": "stream",
     "text": [
      "\n",
      "    That letter is not there!\n"
     ]
    },
    {
     "name": "stdin",
     "output_type": "stream",
     "text": [
      "\n",
      "Player 2, it's your turn. Hit Enter to spin the wheel \n"
     ]
    },
    {
     "name": "stdout",
     "output_type": "stream",
     "text": [
      "\n",
      "    You landed on $150\n",
      "    megaword: _ _ _ s t _ _ _ _ _ _\n",
      "    Guessed letters: b s t\n",
      "\n",
      "    Scoreboard: $1050 | $1150 | $1300\n",
      "\n"
     ]
    },
    {
     "name": "stdin",
     "output_type": "stream",
     "text": [
      "Guess a consonant:  c\n"
     ]
    },
    {
     "name": "stdout",
     "output_type": "stream",
     "text": [
      "\n",
      "    You guessed correctly!\n",
      "    megaword: _ _ _ s t _ c _ _ _ _\n",
      "    Guessed letters: b c s t\n",
      "\n",
      "    Scoreboard: $1050 | $1300 | $1300\n",
      "\n"
     ]
    },
    {
     "name": "stdin",
     "output_type": "stream",
     "text": [
      "Buy a vowel for $250? (y/n):  n\n",
      "Solve the puzzle? (y/n):  n\n",
      "\n",
      "Player 3, it's your turn. Hit Enter to spin the wheel \n"
     ]
    },
    {
     "name": "stdout",
     "output_type": "stream",
     "text": [
      "\n",
      "    You landed on $300\n",
      "    megaword: _ _ _ s t _ c _ _ _ _\n",
      "    Guessed letters: b c s t\n",
      "\n",
      "    Scoreboard: $1050 | $1300 | $1300\n",
      "\n"
     ]
    },
    {
     "name": "stdin",
     "output_type": "stream",
     "text": [
      "Guess a consonant:  h\n"
     ]
    },
    {
     "name": "stdout",
     "output_type": "stream",
     "text": [
      "\n",
      "    That letter is not there!\n"
     ]
    },
    {
     "name": "stdin",
     "output_type": "stream",
     "text": [
      "\n",
      "Player 1, it's your turn. Hit Enter to spin the wheel \n"
     ]
    },
    {
     "name": "stdout",
     "output_type": "stream",
     "text": [
      "\n",
      "    You landed on $100\n",
      "    megaword: _ _ _ s t _ c _ _ _ _\n",
      "    Guessed letters: b c h s t\n",
      "\n",
      "    Scoreboard: $1050 | $1300 | $1300\n",
      "\n"
     ]
    },
    {
     "name": "stdin",
     "output_type": "stream",
     "text": [
      "Guess a consonant:  y\n"
     ]
    },
    {
     "name": "stdout",
     "output_type": "stream",
     "text": [
      "\n",
      "    That letter is not there!\n"
     ]
    },
    {
     "name": "stdin",
     "output_type": "stream",
     "text": [
      "\n",
      "Player 2, it's your turn. Hit Enter to spin the wheel \n"
     ]
    },
    {
     "name": "stdout",
     "output_type": "stream",
     "text": [
      "\n",
      "    You landed on $100\n",
      "    megaword: _ _ _ s t _ c _ _ _ _\n",
      "    Guessed letters: b c h s t y\n",
      "\n",
      "    Scoreboard: $1050 | $1300 | $1300\n",
      "\n"
     ]
    },
    {
     "name": "stdin",
     "output_type": "stream",
     "text": [
      "Guess a consonant:  d\n"
     ]
    },
    {
     "name": "stdout",
     "output_type": "stream",
     "text": [
      "\n",
      "    You guessed correctly!\n",
      "    megaword: _ _ _ s t _ c _ _ _ d\n",
      "    Guessed letters: b c d h s t y\n",
      "\n",
      "    Scoreboard: $1050 | $1400 | $1300\n",
      "\n"
     ]
    },
    {
     "name": "stdin",
     "output_type": "stream",
     "text": [
      "Buy a vowel for $250? (y/n):  n\n",
      "Solve the puzzle? (y/n):  n\n",
      "\n",
      "Player 3, it's your turn. Hit Enter to spin the wheel \n"
     ]
    },
    {
     "name": "stdout",
     "output_type": "stream",
     "text": [
      "\n",
      "    You landed on $350\n",
      "    megaword: _ _ _ s t _ c _ _ _ d\n",
      "    Guessed letters: b c d h s t y\n",
      "\n",
      "    Scoreboard: $1050 | $1400 | $1300\n",
      "\n"
     ]
    },
    {
     "name": "stdin",
     "output_type": "stream",
     "text": [
      "Guess a consonant:  r\n"
     ]
    },
    {
     "name": "stdout",
     "output_type": "stream",
     "text": [
      "\n",
      "    That letter is not there!\n"
     ]
    },
    {
     "name": "stdin",
     "output_type": "stream",
     "text": [
      "\n",
      "Player 1, it's your turn. Hit Enter to spin the wheel \n"
     ]
    },
    {
     "name": "stdout",
     "output_type": "stream",
     "text": [
      "\n",
      "    You landed on $400\n",
      "    megaword: _ _ _ s t _ c _ _ _ d\n",
      "    Guessed letters: b c d h r s t y\n",
      "\n",
      "    Scoreboard: $1050 | $1400 | $1300\n",
      "\n"
     ]
    },
    {
     "name": "stdin",
     "output_type": "stream",
     "text": [
      "Guess a consonant:  n\n"
     ]
    },
    {
     "name": "stdout",
     "output_type": "stream",
     "text": [
      "\n",
      "    That letter is not there!\n"
     ]
    },
    {
     "name": "stdin",
     "output_type": "stream",
     "text": [
      "\n",
      "Player 2, it's your turn. Hit Enter to spin the wheel \n"
     ]
    },
    {
     "name": "stdout",
     "output_type": "stream",
     "text": [
      "\n",
      "    You landed on $800\n",
      "    megaword: _ _ _ s t _ c _ _ _ d\n",
      "    Guessed letters: b c d h n r s t y\n",
      "\n",
      "    Scoreboard: $1050 | $1400 | $1300\n",
      "\n"
     ]
    },
    {
     "name": "stdin",
     "output_type": "stream",
     "text": [
      "Guess a consonant:  l\n"
     ]
    },
    {
     "name": "stdout",
     "output_type": "stream",
     "text": [
      "\n",
      "    You guessed correctly!\n",
      "    megaword: _ l _ s t _ c _ _ _ d\n",
      "    Guessed letters: b c d h l n r s t y\n",
      "\n",
      "    Scoreboard: $1050 | $2200 | $1300\n",
      "\n"
     ]
    },
    {
     "name": "stdin",
     "output_type": "stream",
     "text": [
      "Buy a vowel for $250? (y/n):  y\n",
      "Guess a vowel:  a\n"
     ]
    },
    {
     "name": "stdout",
     "output_type": "stream",
     "text": [
      "\n",
      "    You guessed correctly!\n",
      "    megaword: _ l a s t _ c _ _ _ d\n",
      "    Guessed letters: a b c d h l n r s t y\n",
      "\n",
      "    Scoreboard: $1050 | $1950 | $1300\n",
      "\n"
     ]
    },
    {
     "name": "stdin",
     "output_type": "stream",
     "text": [
      "Buy a vowel for $250? (y/n):  y\n",
      "Guess a vowel:  e\n"
     ]
    },
    {
     "name": "stdout",
     "output_type": "stream",
     "text": [
      "\n",
      "    You guessed correctly!\n",
      "    megaword: e l a s t _ c _ _ e d\n",
      "    Guessed letters: a b c d e h l n r s t y\n",
      "\n",
      "    Scoreboard: $1050 | $1700 | $1300\n",
      "\n"
     ]
    },
    {
     "name": "stdin",
     "output_type": "stream",
     "text": [
      "Buy a vowel for $250? (y/n):  y\n",
      "Guess a vowel:  i\n"
     ]
    },
    {
     "name": "stdout",
     "output_type": "stream",
     "text": [
      "\n",
      "    You guessed correctly!\n",
      "    megaword: e l a s t i c i _ e d\n",
      "    Guessed letters: a b c d e h i l n r s t y\n",
      "\n",
      "    Scoreboard: $1050 | $1450 | $1300\n",
      "\n"
     ]
    },
    {
     "name": "stdin",
     "output_type": "stream",
     "text": [
      "Buy a vowel for $250? (y/n):  n\n",
      "Solve the puzzle? (y/n):  y\n",
      "Enter your guess:  elasticized\n"
     ]
    },
    {
     "name": "stdout",
     "output_type": "stream",
     "text": [
      "\n",
      "    You solved the puzzle!\n",
      "\n",
      "Player 2, you move on to Round 3\n",
      "\n",
      "    husband-and-wife: _ _ _ _   l e _ _ n e   &   _ e _ _ t _   _ r _ n s l _ _\n",
      "    Guessed letters: e l n r s t\n",
      "\n"
     ]
    },
    {
     "name": "stdin",
     "output_type": "stream",
     "text": [
      "Guess a consonant:  d\n",
      "Guess a consonant:  w\n",
      "Guess a consonant:  p\n",
      "Guess a vowel:  a\n"
     ]
    },
    {
     "name": "stdout",
     "output_type": "stream",
     "text": [
      "\n",
      "    husband-and-wife: a d a _   l e _ _ n e   &   _ e _ a t _   p r _ n s l _ _\n",
      "    Guessed letters: a d e l n p r s t w\n",
      "\n"
     ]
    },
    {
     "name": "stdin",
     "output_type": "stream",
     "text": [
      "Enter your guess:  adam levine & somebody\n"
     ]
    },
    {
     "name": "stdout",
     "output_type": "stream",
     "text": [
      "\n",
      "    Sorry, the word was adam levine & behati prinsloo\n",
      "\n"
     ]
    }
   ],
   "source": [
    "import random\n",
    "import math\n",
    "import json\n",
    "\n",
    "def build_wheel():\n",
    "\n",
    "    result = [\"Bankrupt\", \"Lose a Turn\"]\n",
    "    for dollar_amount in range(100,950,50):\n",
    "        result.append(dollar_amount)\n",
    "    for dollar_amount in range(100,350,50):\n",
    "        result.append(dollar_amount)\n",
    "    return tuple(result)\n",
    "\n",
    "def spin_wheel():\n",
    "    index = math.floor(random.random() * len(WHEEL))\n",
    "    return WHEEL[index]\n",
    "\n",
    "def choose_phrase_and_category(used_phrases):\n",
    "    f = open(\"phrases.json\")\n",
    "    phrase_dict = json.load(f)\n",
    "    f.close()\n",
    "    phrase_list = list(phrase_dict.keys())\n",
    "    while ( True ):\n",
    "        index = math.floor(random.random() * len(phrase_list))\n",
    "        phrase = phrase_list[index]\n",
    "        category = phrase_dict[phrase]\n",
    "        if ( phrase.lower() not in used_phrases ):\n",
    "            used_phrases.add(phrase.lower())\n",
    "            return [phrase.lower(), category.lower()]\n",
    "\n",
    "# Display category, phrase with guessed letters filled in, and set of guessed letters\n",
    "def display_puzzle_info(phrase,category,guessed_letters):\n",
    "\n",
    "    revealed = \"    %s: \" % category\n",
    "    for i in range(len(phrase)):\n",
    "        if ( phrase[i] in guessed_letters or phrase[i] in SPECIAL_CHARS ):\n",
    "            revealed += phrase[i]\n",
    "        else:\n",
    "            revealed += \"_\"\n",
    "        revealed += \" \"\n",
    "    print(revealed[0:-1])\n",
    "\n",
    "    guessed = \"    Guessed letters: \"\n",
    "    for letter in sorted(guessed_letters):\n",
    "        guessed += letter + \" \"\n",
    "    print(guessed[0:-1] + \"\\n\")\n",
    "\n",
    "def display_score(player_money):\n",
    "\n",
    "    score = \"    Scoreboard: \"\n",
    "    for i in range(3):\n",
    "        score += \"$%u | \" % player_money[i]\n",
    "    print(score[0:-3] + \"\\n\")\n",
    "\n",
    "# Get a consonant inputted by a player\n",
    "def get_consonant():\n",
    "\n",
    "    guess = \"1\"\n",
    "    while ( not (guess.isalpha() and len(guess) == 1 and guess not in VOWELS) ):\n",
    "        guess = input(\"Guess a consonant: \")\n",
    "    return guess.lower()\n",
    "\n",
    "# Get a vowel inputted by a player\n",
    "def get_vowel():\n",
    "\n",
    "    guess = \"1\"\n",
    "    while ( not (guess.isalpha() and len(guess) == 1 and guess in VOWELS) ):\n",
    "        guess = input(\"Guess a vowel: \")\n",
    "    return guess.lower()\n",
    "\n",
    "# Return True if there are still unguessed consonants, False if not\n",
    "def consonants_left(phrase,guessed_letters):\n",
    "    \n",
    "    for i in range(len(phrase)):\n",
    "        if ( phrase[i] not in VOWELS and phrase[i] not in guessed_letters ):\n",
    "            return True\n",
    "    return False\n",
    "\n",
    "def buy_vowels(player_money,phrase,category,guessed_letters,player):\n",
    "\n",
    "    while ( player_money[player] >= 250 ):\n",
    "        action = input(\"Buy a vowel for $250? (y/n): \")\n",
    "        if ( action == \"n\" ):\n",
    "            break\n",
    "        if ( action == \"y\" ):\n",
    "            vowel = get_vowel()\n",
    "            guessed_letters.add(vowel)\n",
    "            player_money[player] -= 250\n",
    "            if ( phrase.find(vowel) != -1 ):\n",
    "                print(\"\\n    You guessed correctly!\")\n",
    "                display_puzzle_info(phrase,category,guessed_letters)\n",
    "                display_score(player_money)\n",
    "            else:\n",
    "                print(\"\\n    That letter is not there!\\n\")\n",
    "                break\n",
    "\n",
    "# Allow player to attempt to solve the puzzle\n",
    "# Return True if puzzle is solved, False if not\n",
    "def guess_phrase(phrase):\n",
    "\n",
    "    while ( True ):\n",
    "        action = input(\"Solve the puzzle? (y/n): \")\n",
    "        if ( action == \"n\" ):\n",
    "            return False\n",
    "        if ( action == \"y\" ):\n",
    "            guess = input(\"Enter your guess: \")\n",
    "            if ( guess.lower() == phrase ):\n",
    "                print(\"\\n    You solved the puzzle!\")\n",
    "                return True\n",
    "            else:\n",
    "                print(\"\\n    That guess is incorrect\")\n",
    "                return False\n",
    "\n",
    "def play_standard_round(player_money,used_phrases):\n",
    "\n",
    "    [phrase, category] = choose_phrase_and_category(used_phrases)\n",
    "    guessed_letters = set()\n",
    "    round_over = False\n",
    "    while( not round_over ):\n",
    "        for player in range(3):\n",
    "            if ( round_over ):\n",
    "                break\n",
    "            input(\"\\nPlayer %u, it's your turn. Hit Enter to spin the wheel\" % (player+1))\n",
    "            space = spin_wheel()\n",
    "            if ( space == \"Bankrupt\" ):\n",
    "                print(\"\\n    You landed on Bankrupt\")\n",
    "                player_money[player] = 0\n",
    "            elif ( space == \"Lose a Turn\" ):\n",
    "                print(\"\\n    You landed on Lose a Turn\")\n",
    "            else:\n",
    "                # Wheel spin landed on money\n",
    "\n",
    "                print(\"\\n    You landed on $%u\" % space)\n",
    "                display_puzzle_info(phrase,category,guessed_letters)\n",
    "                display_score(player_money)\n",
    "                if ( not consonants_left(phrase,guessed_letters) ):\n",
    "                    print(\"There are no consonants left\")\n",
    "                    buy_vowels(player_money,phrase,category,guessed_letters,player)\n",
    "                    round_over = guess_phrase(phrase)\n",
    "                else:\n",
    "                    consonant = get_consonant()\n",
    "                    guessed_letters.add(consonant)\n",
    "                    if ( phrase.find(consonant) != -1 ):\n",
    "                        player_money[player] += space\n",
    "                        print(\"\\n    You guessed correctly!\")\n",
    "                        display_puzzle_info(phrase,category,guessed_letters)\n",
    "                        display_score(player_money)\n",
    "                        buy_vowels(player_money,phrase,category,guessed_letters,player)\n",
    "                        round_over = guess_phrase(phrase)\n",
    "                    else:\n",
    "                        print(\"\\n    That letter is not there!\")\n",
    "\n",
    "def play_final_round(used_phrases):\n",
    "\n",
    "    [phrase, category] = choose_phrase_and_category(used_phrases)\n",
    "    guessed_letters = {\"r\", \"s\", \"t\", \"l\", \"n\", \"e\"}\n",
    "    display_puzzle_info(phrase,category,guessed_letters)\n",
    "    for i in range(3):\n",
    "        guessed_letters.add(get_consonant())\n",
    "    guessed_letters.add(get_vowel())\n",
    "    print(\"\")\n",
    "    display_puzzle_info(phrase,category,guessed_letters)\n",
    "    guess = input(\"Enter your guess: \")\n",
    "    if ( guess.lower() == phrase ):\n",
    "        print(\"\\n    Correct! You win the grand prize of $10000!\\n\")\n",
    "    else:\n",
    "        print(\"\\n    Sorry, the word was %s\\n\" % phrase)\n",
    "\n",
    "def play_game():\n",
    "\n",
    "    player_money = [0, 0, 0]\n",
    "    used_phrases = set()\n",
    "\n",
    "    for round in range(2):\n",
    "        print(\"\\nPlayers 1, 2, and 3: Welcome to round %u\" % (round+1))\n",
    "        play_standard_round(player_money,used_phrases)\n",
    "\n",
    "    best_player = 0\n",
    "    most_money = player_money[best_player]\n",
    "    for player in range(1,3):\n",
    "        if player_money[player] > most_money:\n",
    "            best_player = player\n",
    "            most_money = player_money[best_player]\n",
    "    print(\"\\nPlayer %u, you move on to Round 3\\n\" % (best_player+1))\n",
    "    play_final_round(used_phrases)\n",
    "\n",
    "############################## Main instructions ##############################\n",
    "\n",
    "WHEEL = build_wheel()\n",
    "VOWELS = (\"a\", \"A\", \"e\", \"E\", \"i\", \"I\", \"o\", \"O\", \"u\", \"U\")\n",
    "SPECIAL_CHARS = (\" \", \".\", \"!\", \"?\", \"&\", \"'\", \"-\")\n",
    "\n",
    "play_game()"
   ]
  },
  {
   "cell_type": "code",
   "execution_count": null,
   "id": "ca99bb3f-3f43-4d6b-99c9-09a7e7461b26",
   "metadata": {},
   "outputs": [],
   "source": []
  }
 ],
 "metadata": {
  "kernelspec": {
   "display_name": "Python 3 (ipykernel)",
   "language": "python",
   "name": "python3"
  },
  "language_info": {
   "codemirror_mode": {
    "name": "ipython",
    "version": 3
   },
   "file_extension": ".py",
   "mimetype": "text/x-python",
   "name": "python",
   "nbconvert_exporter": "python",
   "pygments_lexer": "ipython3",
   "version": "3.9.5"
  }
 },
 "nbformat": 4,
 "nbformat_minor": 5
}
